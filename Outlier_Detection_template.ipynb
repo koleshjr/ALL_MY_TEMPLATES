{
  "nbformat": 4,
  "nbformat_minor": 0,
  "metadata": {
    "colab": {
      "provenance": [],
      "authorship_tag": "ABX9TyNp4reE9DYVfoK6c/cAXWsy",
      "include_colab_link": true
    },
    "kernelspec": {
      "name": "python3",
      "display_name": "Python 3"
    },
    "language_info": {
      "name": "python"
    }
  },
  "cells": [
    {
      "cell_type": "markdown",
      "metadata": {
        "id": "view-in-github",
        "colab_type": "text"
      },
      "source": [
        "<a href=\"https://colab.research.google.com/github/koleshjr/ALL_MY_TEMPLATES/blob/main/Outlier_Detection_template.ipynb\" target=\"_parent\"><img src=\"https://colab.research.google.com/assets/colab-badge.svg\" alt=\"Open In Colab\"/></a>"
      ]
    },
    {
      "cell_type": "markdown",
      "source": [
        "# Outlier Detection Notebook"
      ],
      "metadata": {
        "id": "Mqb1jsNCOZd1"
      }
    },
    {
      "cell_type": "markdown",
      "source": [
        "#### Load Necessary Libraries"
      ],
      "metadata": {
        "id": "WTzIsdl_Oeph"
      }
    },
    {
      "cell_type": "code",
      "source": [
        "import pandas as pd\n",
        "import numpy as np\n",
        "import matplotlib.pyplot as plt\n",
        "import seaborn as sns\n",
        "# import sys\n",
        "# sys.path.append(\"/home/pavithra/Pictures/learning/ML/kaggle/\")\n",
        "# sys.path\n",
        "import kaggle_utils_py\n",
        "\n",
        "from sklearn.model_selection import train_test_split\n",
        "from sklearn.metrics import accuracy_score\n",
        "\n",
        "from sklearn.impute import KNNImputer\n",
        "\n",
        "from sklearn.linear_model import LogisticRegression\n",
        "from sklearn.svm import SVC\n",
        "from sklearn.ensemble import RandomForestClassifier"
      ],
      "metadata": {
        "id": "i_Y_-1SDObUJ"
      },
      "execution_count": null,
      "outputs": []
    },
    {
      "cell_type": "markdown",
      "source": [
        "#### Deal with missing values using KNN imputer and Z-score"
      ],
      "metadata": {
        "id": "hafyMIidO7KI"
      }
    },
    {
      "cell_type": "code",
      "source": [
        "\n",
        "\n",
        "%%time\n",
        "data = pd.read_csv('../input/song-popularity-prediction/train.csv', index_col=0)\n",
        "# as you seen in the EDA notebook this data has lots of missing values. i am gonna fill those valus using KNNimputer.\n",
        "missing_features = kaggle_utils_py.find_features_with_missing_values(data)\n",
        "knn_imptr = KNNImputer(n_neighbors=2)\n",
        "data[missing_features] = knn_imptr.fit_transform(data[missing_features])\n",
        "data.isna().sum()\n",
        "\n"
      ],
      "metadata": {
        "id": "bQuL8u0ZOyVO"
      },
      "execution_count": null,
      "outputs": []
    },
    {
      "cell_type": "markdown",
      "source": [
        "#### Outlier Detection using IQR method and Z-score methods\n",
        "* Method is based on the distribution type"
      ],
      "metadata": {
        "id": "KP13vK7zO2bx"
      }
    },
    {
      "cell_type": "code",
      "source": [
        "\n",
        "\n",
        "# find the number of outliers each continues feature has.\n",
        "# find the number of outliers on each features.\n",
        "cotinuous_column_list = ['acousticness', 'danceability', 'energy',\n",
        "                        'liveness', 'loudness', 'speechiness', 'tempo', 'audio_valence',\n",
        "                        ] # we are not using the 'song_duration_ms' because it follows a normal distribution so need to use z-score method.\n",
        "outliers = kaggle_utils_py.find_outliers_iqr_method(data[cotinuous_column_list])\n",
        "display(outliers)\n",
        "kaggle_utils_py.find_outlier_z_score_method(data[\"song_duration_ms\"], col_name=\"song_duration_ms\") # col name is must if you giving a single feature for test\n",
        "\n"
      ],
      "metadata": {
        "id": "fAEq5wTIO6JF"
      },
      "execution_count": null,
      "outputs": []
    },
    {
      "cell_type": "markdown",
      "source": [
        "#### Method 1: Use models that are not sensitive to outliers \n",
        "* Tree Based Models"
      ],
      "metadata": {
        "id": "APMJhH7zPQ0x"
      }
    },
    {
      "cell_type": "markdown",
      "source": [
        "#### Method 2: Trimming/ Dropping them"
      ],
      "metadata": {
        "id": "YzmS73cgPkye"
      }
    },
    {
      "cell_type": "code",
      "source": [
        "column = ['song_duration_ms', 'energy',\n",
        "                        'liveness', 'loudness', 'speechiness', 'tempo',]\n",
        "df, num_of_outliers = kaggle_utils_py.find_outliers_iqr_method(data[column], new_feature=True)\n",
        "# The features will be added which says how may outliers in that particular row.\n",
        "print(\"Shape of the original data --->\",df.shape)\n",
        "df.head()\n"
      ],
      "metadata": {
        "id": "EK0-xw35PW0z"
      },
      "execution_count": null,
      "outputs": []
    },
    {
      "cell_type": "code",
      "source": [
        "# remove the rows which has outliers.\n",
        "d = df.copy()\n",
        "d.drop(df[df['num_of_outliers'] > 0].index , axis=0, inplace=True)\n",
        "X_trimmed = d.drop(['num_of_outliers'], axis=1)\n",
        "# drop the same rows from target.\n",
        "y_trimmed = data.iloc[:,-1].drop(df[df['num_of_outliers'] > 0].index , axis=0)\n",
        "print(\"Shape of the X --->\",X_trimmed.shape)\n",
        "print(\"Shape of the y --->\",y_trimmed.shape)"
      ],
      "metadata": {
        "id": "KwRaOyaGPyhz"
      },
      "execution_count": null,
      "outputs": []
    },
    {
      "cell_type": "markdown",
      "source": [
        "#### Method 3: Flooring and Capping using IQR"
      ],
      "metadata": {
        "id": "Q-qexl06P6d_"
      }
    },
    {
      "cell_type": "code",
      "source": [
        "column = ['song_duration_ms', 'energy',\n",
        "                        'liveness', 'loudness', 'speechiness', 'tempo',]\n",
        "lower_limit_df, upper_limit_df = kaggle_utils_py.find_outliers_iqr_method(data[column], return_limits=True)\n",
        "\n",
        "df_flooring_capping = data[column].copy()\n",
        "\n",
        "# replace with upper_limit if the value greater than that.\n",
        "def check_upper(row, upper_value):\n",
        "    if row > upper_value:\n",
        "        return upper_value[0]\n",
        "    return row\n",
        "\n",
        "# replce with lower_limit if the value lower than that.\n",
        "def check_lower(row, lower_value):\n",
        "    if row < lower_value:\n",
        "        return lower_value[0]\n",
        "    return row\n",
        "\n",
        "# a = pd.Series([1,2,3,4,5])\n",
        "# a = a.apply(check_upper, args=(4,))\n",
        "# a\n",
        "for col in column:\n",
        "    lower_limit = np.array(lower_limit_df[lower_limit_df['Features'] == col]['lower limit'])\n",
        "    upper_limit = np.array(upper_limit_df[upper_limit_df['Features'] == col]['upper limit'])\n",
        "    df_flooring_capping[col] = df_flooring_capping[col].apply(check_upper, args=(upper_limit,))\n",
        "    df_flooring_capping[col] = df_flooring_capping[col].apply(check_lower, args=(lower_limit,))\n",
        "df_flooring_capping.head()"
      ],
      "metadata": {
        "id": "nJRbzdVpP_H1"
      },
      "execution_count": null,
      "outputs": []
    },
    {
      "cell_type": "code",
      "source": [
        "\n",
        "\n",
        "# check the outliers on transforemd data.\n",
        "column = ['song_duration_ms', 'energy',\n",
        "                        'liveness', 'loudness', 'speechiness', 'tempo',]\n",
        "print(\"before transformation\")\n",
        "display(kaggle_utils_py.find_outlier_z_score_method(data[column]))\n",
        "print(\"after transformation\")\n",
        "kaggle_utils_py.find_outlier_z_score_method(df_flooring_capping[column]) # looks good\n",
        "\n"
      ],
      "metadata": {
        "id": "cdvtLioSQLXG"
      },
      "execution_count": null,
      "outputs": []
    },
    {
      "cell_type": "markdown",
      "source": [
        "#### Method 4: Treat them as missing values and impute them\n",
        "* You can use mean or median"
      ],
      "metadata": {
        "id": "3IM7bwLqQQhv"
      }
    },
    {
      "cell_type": "markdown",
      "source": [
        "Method 5: Transformation\n",
        "* Log transformation\n",
        "* Box Cox transformation"
      ],
      "metadata": {
        "id": "ITdd_h4iQb6r"
      }
    },
    {
      "cell_type": "markdown",
      "source": [
        "###### Log Transformation best for right skewed data"
      ],
      "metadata": {
        "id": "Eo_ZOHNKQp2L"
      }
    },
    {
      "cell_type": "code",
      "source": [
        "column_right_skewed = ['liveness', 'speechiness', ]\n",
        "df = data[column_right_skewed]\n",
        "for col in column_right_skewed:\n",
        "    df[col] = np.log(df[col])\n",
        "\n",
        "# plot the 2 features\n",
        "sns.displot(data['liveness'])\n",
        "plt.title(\"Feature before transformation\")\n",
        "sns.despine()\n",
        "plt.show()\n",
        "\n",
        "sns.displot(df['liveness'])\n",
        "plt.title(\"Feature after transformation\")\n",
        "sns.despine()\n",
        "plt.show()"
      ],
      "metadata": {
        "id": "e1HK92atQYg6"
      },
      "execution_count": null,
      "outputs": []
    },
    {
      "cell_type": "markdown",
      "source": [
        "####### Check outliers on log transformed data"
      ],
      "metadata": {
        "id": "1UBEBROJQ0bp"
      }
    },
    {
      "cell_type": "code",
      "source": [
        "\n",
        "\n",
        "# check the outliers on log transforemd data.\n",
        "print(\"before transformation\")\n",
        "display(kaggle_utils_py.find_outlier_z_score_method(data['liveness']))\n",
        "print(\"after transformation\")\n",
        "kaggle_utils_py.find_outlier_z_score_method(df['liveness']) # looks good\n",
        "\n"
      ],
      "metadata": {
        "id": "ePW4IB7kQ4Pa"
      },
      "execution_count": null,
      "outputs": []
    },
    {
      "cell_type": "markdown",
      "source": [
        "###### Cube root transformation also good for right skewed data"
      ],
      "metadata": {
        "id": "PzKpvhf_QvL5"
      }
    },
    {
      "cell_type": "code",
      "source": [
        "column_right_skewed = ['liveness', 'speechiness', ]\n",
        "df = data[column_right_skewed]\n",
        "for col in column_right_skewed:\n",
        "    df[col] = (df[col] ** (1/3))\n",
        "\n",
        "# plot the 2 features\n",
        "sns.displot(data['liveness'])\n",
        "plt.title(\"Feature before transformation\")\n",
        "sns.despine()\n",
        "plt.show()\n",
        "\n",
        "sns.displot(df['liveness'])\n",
        "plt.title(\"Feature after transformation\")\n",
        "sns.despine()\n",
        "plt.show()"
      ],
      "metadata": {
        "id": "uHNJbJjcRAmW"
      },
      "execution_count": null,
      "outputs": []
    },
    {
      "cell_type": "code",
      "source": [
        "# check the outliers on cube root transforemd data.\n",
        "print(\"before transformation\")\n",
        "display(kaggle_utils_py.find_outlier_z_score_method(data['liveness']))\n",
        "print(\"after transformation\")\n",
        "kaggle_utils_py.find_outlier_z_score_method(df['liveness']) # looks good\n"
      ],
      "metadata": {
        "id": "4JNPqIcmRJff"
      },
      "execution_count": 2,
      "outputs": []
    },
    {
      "cell_type": "markdown",
      "source": [
        "##### Box Cox transformation"
      ],
      "metadata": {
        "id": "WMLODg1LRPsi"
      }
    },
    {
      "cell_type": "code",
      "source": [
        "\n",
        "\n",
        "import scipy\n",
        "\n",
        "column = ['liveness', 'speechiness', ]\n",
        "df = data[column]\n",
        "for col in column:\n",
        "    df[col], filterd_lmbda = scipy.stats.boxcox(data[col], lmbda=None)\n",
        "\n",
        "# plot the 2 features\n",
        "sns.displot(data['liveness'])\n",
        "plt.title(\"Feature before transformation\")\n",
        "sns.despine()\n",
        "plt.show()\n",
        "\n",
        "sns.displot(df['liveness'])\n",
        "plt.title(\"Feature after transformation\")\n",
        "sns.despine()\n",
        "plt.show()\n",
        "\n"
      ],
      "metadata": {
        "id": "i3IICAkXRK_b"
      },
      "execution_count": null,
      "outputs": []
    },
    {
      "cell_type": "code",
      "source": [
        "\n",
        "\n",
        "# check the outliers on Box Coxed transforemd data.\n",
        "print(\"before transformation\")\n",
        "display(kaggle_utils_py.find_outlier_z_score_method(data['liveness']))\n",
        "print(\"after transformation\")\n",
        "kaggle_utils_py.find_outlier_z_score_method(df['liveness']) # looks good\n",
        "\n"
      ],
      "metadata": {
        "id": "xJSEDwuqRZFc"
      },
      "execution_count": null,
      "outputs": []
    }
  ]
}